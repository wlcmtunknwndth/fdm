{
 "cells": [
  {
   "cell_type": "code",
   "execution_count": null,
   "id": "9e5b50ad",
   "metadata": {},
   "outputs": [],
   "source": [
    "load(fdm/fdm.sage)\n",
    "var ( \" p, q, r, t\" )"
   ]
  },
  {
   "cell_type": "code",
   "execution_count": null,
   "id": "9b823a1a",
   "metadata": {},
   "outputs": [],
   "source": [
    "#p = qr,  ̇q = −pr,  ̇r = −k^2pq,#\n",
    "pr=Initial_problem([p,q,r], [q*r,-p*r,-k^2*p*q], [0,1,1], 10)"
   ]
  },
  {
   "cell_type": "code",
   "execution_count": null,
   "id": "d2cb3b45",
   "metadata": {},
   "outputs": [],
   "source": [
    "pr.latex()"
   ]
  },
  {
   "cell_type": "code",
   "execution_count": null,
   "id": "b9f50bef",
   "metadata": {},
   "outputs": [],
   "source": []
  }
 ],
 "metadata": {
  "kernelspec": {
   "display_name": "SageMath 9.4",
   "language": "sage",
   "name": "sagemath"
  },
  "language_info": {
   "codemirror_mode": {
    "name": "ipython",
    "version": 3
   },
   "file_extension": ".py",
   "mimetype": "text/x-python",
   "name": "python",
   "nbconvert_exporter": "python",
   "pygments_lexer": "ipython3",
   "version": "3.10.4"
  }
 },
 "nbformat": 4,
 "nbformat_minor": 5
}
